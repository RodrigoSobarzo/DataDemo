{
 "cells": [
  {
   "cell_type": "code",
   "execution_count": 40,
   "id": "ec006758",
   "metadata": {},
   "outputs": [
    {
     "name": "stdout",
     "output_type": "stream",
     "text": [
      "Coquimbo Ovalle -30,6031 -71,203\n"
     ]
    }
   ],
   "source": [
    "#https://github.com/jvalhondo/spanish-names-surnames\n",
    "#https://simplemaps.com/data/world-cities\n",
    "import pandas as pd\n",
    "import random\n",
    "\n",
    "pd.options.display.max_rows = 9999\n",
    "\n",
    "df = pd.read_csv('InputData\\\\cities.csv', sep=\";\")\n",
    "\n",
    "MaxRow= len(df)\n",
    "\n",
    "randRegion = random.randrange(0, MaxRow, 1)\n",
    "\n",
    "region= df.iloc[randRegion].admin_name \n",
    "city = df.iloc[randRegion].city\n",
    "geolat = df.iloc[randRegion].lat\n",
    "geolon = df.iloc[randRegion].lng\n",
    "\n",
    "print (region, city, geolat, geolon )\n",
    "\n",
    "#df.columns\n",
    "#df.admin_name\n",
    "\n",
    "#df.loc[df['column_name'] == some_value]\n",
    "\n",
    "#, usecols= ['admin_name','city','lat','lng'])\n",
    "\n",
    "#print(df) "
   ]
  }
 ],
 "metadata": {
  "kernelspec": {
   "display_name": "Python 3 (ipykernel)",
   "language": "python",
   "name": "python3"
  },
  "language_info": {
   "codemirror_mode": {
    "name": "ipython",
    "version": 3
   },
   "file_extension": ".py",
   "mimetype": "text/x-python",
   "name": "python",
   "nbconvert_exporter": "python",
   "pygments_lexer": "ipython3",
   "version": "3.9.7"
  }
 },
 "nbformat": 4,
 "nbformat_minor": 5
}
