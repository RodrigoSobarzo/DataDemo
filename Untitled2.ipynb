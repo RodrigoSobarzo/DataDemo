{
 "cells": [
  {
   "cell_type": "code",
   "execution_count": 7,
   "id": "3d38a78d",
   "metadata": {},
   "outputs": [
    {
     "name": "stdout",
     "output_type": "stream",
     "text": [
      "Empty DataFrame\n",
      "Columns: [x1, x2, x3]\n",
      "Index: []\n",
      "   x1  x2  x3\n",
      "0   0   0   0\n",
      "1   5   5   5\n",
      "2  10  10  10\n",
      "3  15  15  15\n",
      "4  20  20  20\n"
     ]
    }
   ],
   "source": [
    "import pandas as pd\n",
    "data2 = pd.DataFrame(columns = ['x1', 'x2', 'x3'])  # Create empty DataFrame with column names\n",
    "print(data2)                                        # Print empty DataFrame with column names\n",
    "# Empty DataFrame\n",
    "# Columns: [x1, x2, x3]\n",
    "# Index: []\n",
    "for i in range(5):                                  # Append rows within for loop\n",
    "    data2.loc[len(data2)] = i * 5\n",
    "print(data2)  \n",
    "data2.to_csv('example.csv', index=False, encoding='utf_8', sep=';', chunksize=1000)"
   ]
  }
 ],
 "metadata": {
  "kernelspec": {
   "display_name": "Python 3 (ipykernel)",
   "language": "python",
   "name": "python3"
  },
  "language_info": {
   "codemirror_mode": {
    "name": "ipython",
    "version": 3
   },
   "file_extension": ".py",
   "mimetype": "text/x-python",
   "name": "python",
   "nbconvert_exporter": "python",
   "pygments_lexer": "ipython3",
   "version": "3.9.7"
  }
 },
 "nbformat": 4,
 "nbformat_minor": 5
}
