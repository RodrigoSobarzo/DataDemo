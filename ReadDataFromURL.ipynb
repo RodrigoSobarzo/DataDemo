{
 "cells": [
  {
   "cell_type": "code",
   "execution_count": null,
   "id": "ac1a8387",
   "metadata": {},
   "outputs": [],
   "source": [
    "import pandas as pd\n",
    "\n",
    "from selenium import webdriver\n",
    "from selenium.webdriver.chrome.service import Service\n",
    "from selenium.webdriver.common.by import By\n",
    "\n",
    "s = Service('C:\\\\Users\\\\rodrigo\\\\selenium_drivers\\chromedriver.exe')\n",
    "driver = webdriver.Chrome(service=s)\n",
    "driver.implicitly_wait(30)\n",
    "driver.get('https://www.bestrandoms.com/random-address-in-cl?quantity=1')\n",
    "elements =driver.find_element(By.CLASS_NAME, 'content')\n",
    "print(elements.text)\n",
    "#for e in elements:\n",
    "#    print(e.text)\n",
    "\n",
    "\n",
    "\n",
    "#header = {\n",
    "#  \"User-Agent\": \"Mozilla/5.0 (X11; Linux x86_64) AppleWebKit/537.36 (KHTML, like Gecko) Chrome/50.0.2661.75 Safari/537.36\",\n",
    "#  \"X-Requested-With\": \"XMLHttpRequest\"\n",
    "#}\n",
    "##cus_address_url='https://generate.plus/en/address/chile-cl'\n",
    "#\n",
    "#cus_address_url='https://www.bestrandoms.com/random-address-in-cl?quantity=1'\n",
    "#\n",
    "#import requests\n",
    "#import pandas as pd\n",
    "#\n",
    "#cus_fake_address = requests.get(cus_address_url, headers=header)\n",
    "\n",
    "##print(cus_fake_address.text)\n",
    "#data=pd.read_html(cus_fake_address.text)\n",
    "#print(data)"
   ]
  }
 ],
 "metadata": {
  "kernelspec": {
   "display_name": "Python 3 (ipykernel)",
   "language": "python",
   "name": "python3"
  },
  "language_info": {
   "codemirror_mode": {
    "name": "ipython",
    "version": 3
   },
   "file_extension": ".py",
   "mimetype": "text/x-python",
   "name": "python",
   "nbconvert_exporter": "python",
   "pygments_lexer": "ipython3",
   "version": "3.9.7"
  }
 },
 "nbformat": 4,
 "nbformat_minor": 5
}
